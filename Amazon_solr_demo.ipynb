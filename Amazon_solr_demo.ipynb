{
 "cells": [
  {
   "cell_type": "code",
   "execution_count": 29,
   "metadata": {
    "collapsed": false
   },
   "outputs": [],
   "source": [
    "from cassandra import ConsistencyLevel\n",
    "import json\n",
    "import plotly.plotly as py\n",
    "from plotly.graph_objs import *\n",
    "\n",
    "# not used but might be useful for later\n",
    "import cassandra\n",
    "import sys\n",
    "import random\n",
    "import string\n",
    "import getopt\n",
    "import time\n",
    "import datetime\n",
    "import collections\n"
   ]
  },
  {
   "cell_type": "code",
   "execution_count": 30,
   "metadata": {
    "collapsed": true
   },
   "outputs": [],
   "source": [
    "# Connection Constants\n",
    "KEYSPACE = 'amazon'\n",
    "CONSISTENCY=ConsistencyLevel.LOCAL_ONE\n",
    "SEED_NODES = ['127.0.0.1']\n",
    "DATACENTER = None\n",
    "\n",
    "# Cassandra Constants\n",
    "META_COLUMN_FAMILY = 'metadata'\n",
    "\n",
    "# Other Constants\n",
    "X_COORD = []\n",
    "Y_COORD = []"
   ]
  },
  {
   "cell_type": "code",
   "execution_count": 31,
   "metadata": {
    "collapsed": false
   },
   "outputs": [],
   "source": [
    "def connect(seeds, keyspace, datacenter=None, port=9042):\n",
    "    from cassandra.io.libevreactor import LibevConnection\n",
    "    from cassandra.cluster import Cluster\n",
    "    from cassandra.policies import DCAwareRoundRobinPolicy, RetryPolicy, ExponentialReconnectionPolicy\n",
    "\n",
    "    class CustomRetryPolicy(RetryPolicy):\n",
    "\n",
    "        def on_write_timeout(self, query, consistency, write_type,\n",
    "                             required_responses, received_responses, retry_num):\n",
    "\n",
    "            # retry at most 5 times regardless of query type\n",
    "            if retry_num >= 5:\n",
    "                return (self.RETHROW, None)\n",
    "\n",
    "            return (self.RETRY, consistency)\n",
    "\n",
    "\n",
    "    load_balancing_policy = None\n",
    "    if datacenter:\n",
    "        # If you are using multiple datacenters it's important to use\n",
    "        # the DCAwareRoundRobinPolicy. If not then the client will\n",
    "        # make cross DC connections. This defaults to round robin\n",
    "        # which means round robin across all nodes irrespective of\n",
    "        # data center.\n",
    "        load_balancing_policy = DCAwareRoundRobinPolicy(local_dc=datacenter)\n",
    "\n",
    "    cluster = Cluster(contact_points=seeds,\n",
    "                      port=port,\n",
    "                      default_retry_policy=CustomRetryPolicy(),\n",
    "                      reconnection_policy=ExponentialReconnectionPolicy(1, 60),\n",
    "                      load_balancing_policy=load_balancing_policy,\n",
    "                      protocol_version=3)\n",
    "\n",
    "    cluster.connection_class = LibevConnection\n",
    "    cluster.connection_class = LibevConnection\n",
    "    cluster.control_connection_timeout = 10.0\n",
    "    cluster.compression = False\n",
    "    session = cluster.connect(keyspace)\n",
    "    print 'Connection established with seed(s): %s at port: %s and keyspace: %s' %(seeds,port,keyspace)\n",
    "    return session"
   ]
  },
  {
   "cell_type": "code",
   "execution_count": 32,
   "metadata": {
    "collapsed": true
   },
   "outputs": [],
   "source": [
    "def print_future_results(results):\n",
    "    print results"
   ]
  },
  {
   "cell_type": "code",
   "execution_count": 33,
   "metadata": {
    "collapsed": true
   },
   "outputs": [],
   "source": [
    "def print_future_errors(errors):\n",
    "    log.error(errors)"
   ]
  },
  {
   "cell_type": "code",
   "execution_count": 34,
   "metadata": {
    "collapsed": false
   },
   "outputs": [],
   "source": [
    "def solr_facet_async(connection):\n",
    "    #Example using async queries \n",
    "    future_facet = connection.execute_async(\"\"\"SELECT * FROM %s.%s WHERE solr_query='{\"q\":\"title:Noir~\", \"facet\":{\"field\":\"categories\"}}'  limit 10;\"\"\"% (KEYSPACE, META_COLUMN_FAMILY))\n",
    "    future_callback = future_facet.add_callbacks(print_future_results, print_future_errors)\n",
    "    print future_callback"
   ]
  },
  {
   "cell_type": "code",
   "execution_count": 35,
   "metadata": {
    "collapsed": false
   },
   "outputs": [],
   "source": [
    "def solr_facet(connection):\n",
    "    facet = connection.execute(\"\"\"SELECT * FROM %s.%s WHERE solr_query='{\"q\":\"title:Noir~\", \"facet\":{\"field\":\"categories\"}}'  limit 10;\"\"\"% (KEYSPACE, META_COLUMN_FAMILY))\n",
    "    for rows in facet:\n",
    "        i=rows.facet_fields\n",
    "        s=json.loads(i)\n",
    "        for r in s[\"categories\"]:\n",
    "            X_COORD.append(r)\n",
    "            Y_COORD.append(s[\"categories\"][r])\n",
    "            print r, s[\"categories\"][r]"
   ]
  },
  {
   "cell_type": "code",
   "execution_count": 36,
   "metadata": {
    "collapsed": true
   },
   "outputs": [],
   "source": [
    "def simple_query(connection):\n",
    "    simple_read = connection.execute(\"\"\"SELECT * FROM %s.%s limit 10;\"\"\"% (KEYSPACE, META_COLUMN_FAMILY))\n",
    "    for rows in simple_read:\n",
    "        print rows\n",
    "    print (simple_read)"
   ]
  },
  {
   "cell_type": "code",
   "execution_count": 37,
   "metadata": {
    "collapsed": true
   },
   "outputs": [],
   "source": [
    "def plotly_facet_bar():\n",
    "    data = Data([\n",
    "    Bar(\n",
    "        x=X_COORD,\n",
    "        y=Y_COORD\n",
    "    )\n",
    "    ])\n",
    "    plotly_url_bar = py.plot(data, filename='facet-bar')\n",
    "    print plotly_url_bar\n"
   ]
  },
  {
   "cell_type": "code",
   "execution_count": 38,
   "metadata": {
    "collapsed": false
   },
   "outputs": [
    {
     "name": "stdout",
     "output_type": "stream",
     "text": [
      "Connection established with seed(s): ['127.0.0.1'] at port: 9042 and keyspace: amazon\n",
      "https://plot.ly/~MarcintheCloud/14\n",
      "fin!\n"
     ]
    },
    {
     "name": "stderr",
     "output_type": "stream",
     "text": [
      "/Library/Frameworks/Python.framework/Versions/2.7/lib/python2.7/site-packages/requests/packages/urllib3/util/ssl_.py:90: InsecurePlatformWarning:\n",
      "\n",
      "A true SSLContext object is not available. This prevents urllib3 from configuring SSL appropriately and may cause certain SSL connections to fail. For more information, see https://urllib3.readthedocs.org/en/latest/security.html#insecureplatformwarning.\n",
      "\n"
     ]
    }
   ],
   "source": [
    "if __name__ == \"__main__\":\n",
    "    # Create a single session multiple functions/casses can use\n",
    "    connection = connect(SEED_NODES, keyspace=KEYSPACE, datacenter=DATACENTER)\n",
    "\n",
    "    # Queries\n",
    "    solr_facet(connection)\n",
    "    #simple_query(connection)\n",
    "    #solr_facet_async(connection)\n",
    "    plotly_facet_bar()\n",
    "    \n",
    "    \n",
    "    \n",
    "    print 'fin!'"
   ]
  },
  {
   "cell_type": "code",
   "execution_count": null,
   "metadata": {
    "collapsed": true
   },
   "outputs": [],
   "source": []
  },
  {
   "cell_type": "code",
   "execution_count": null,
   "metadata": {
    "collapsed": true
   },
   "outputs": [],
   "source": []
  },
  {
   "cell_type": "code",
   "execution_count": null,
   "metadata": {
    "collapsed": true
   },
   "outputs": [],
   "source": []
  }
 ],
 "metadata": {
  "kernelspec": {
   "display_name": "Python 2",
   "language": "python",
   "name": "python2"
  },
  "language_info": {
   "codemirror_mode": {
    "name": "ipython",
    "version": 2
   },
   "file_extension": ".py",
   "mimetype": "text/x-python",
   "name": "python",
   "nbconvert_exporter": "python",
   "pygments_lexer": "ipython2",
   "version": "2.7.6"
  }
 },
 "nbformat": 4,
 "nbformat_minor": 0
}
